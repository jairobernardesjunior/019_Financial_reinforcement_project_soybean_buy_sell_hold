{
 "cells": [
  {
   "cell_type": "markdown",
   "metadata": {},
   "source": [
    "## Projeto soybean compra venda mantem\n",
    "\n",
    "### Objective:\n",
    "- This project aims to create clusters defined according to the characteristics of credit card holders, grouping these holders and characterizing the clusters based on the occurrence of the variables used.\n",
    "\n",
    "- Esse projeto tem como objetivo treinar um modelo, utilizando aprendizado por reforço, que nos orientará se no momento atual devemos comprar, vender ou manter os títulos (contratos) de soja futuros.\n",
    "\n",
    "### Data Origin:\n",
    "- Dataset: https://www.kaggle.com/datasets/choweric/cbot-soybeans/data\n",
    "\n",
    "- This project aims to train a model, using reinforcement learning, that will guide us whether we should currently buy, sell or hold future soybean bonds (contracts).\n",
    "\n",
    "- O Dataset de cotação do preço da soja apresenta cotações diárias com data do dia de cotação dos valores de títulos futuros da soja na bolsa de valores, com valores percorridos durante todo o dia.\n",
    "\n",
    "- A seguir está o Dicionário de Dados para o conjunto de dados cotação de título de soja:\n",
    "\n",
    "    Date: data da ocorrência da cotação\n",
    "\n",
    "    Open: valor cotado na abertura dos trabalhos de negociação\n",
    "\n",
    "    High: valor máximo atingido no período de negociação\n",
    "\n",
    "    Low:  valor mínimo atingido no período de negociação\n",
    "\n",
    "    Volume: nro de contratos negociados no período de negociação\n",
    "    \n",
    "    Open interest: fluxo de dinheiro para dentro ou para fora de um mercado de futuros"
   ]
  },
  {
   "cell_type": "markdown",
   "metadata": {},
   "source": [
    "- ## Análise exploratória dos dados\n",
    "- ## Preparação dos dados\n",
    "- ## Armazenamento dos dados tratados"
   ]
  },
  {
   "cell_type": "code",
   "execution_count": 24,
   "metadata": {},
   "outputs": [],
   "source": [
    "# maximiza nro de linhas e colunas para exibição\n",
    "# inibe mensagens de warning\n",
    "import pandas as pd\n",
    "pd.set_option('display.max_rows', None) # permite a máxima visualização das linhas em um display\n",
    "pd.set_option('display.max_columns', None) # permite a máxima visualização das colunas em um display\n",
    "import warnings\n",
    "warnings.simplefilter('ignore') # inibe a exibição de avisos de warning"
   ]
  },
  {
   "cell_type": "code",
   "execution_count": 25,
   "metadata": {},
   "outputs": [],
   "source": [
    "# preparação e visualização de dados\n",
    "from matplotlib import pyplot as plt # plotagem gráfica"
   ]
  },
  {
   "cell_type": "code",
   "execution_count": 26,
   "metadata": {},
   "outputs": [],
   "source": [
    "#import quandl\n",
    "#quandl.ApiConfig.api_key = 'g6yeFE8yJLssq1bfySKy'\n",
    "#df_soy = pd.DataFrame(quandl.get('WIKI/XXXXX'))"
   ]
  },
  {
   "cell_type": "code",
   "execution_count": 27,
   "metadata": {},
   "outputs": [],
   "source": [
    "df_soy = pd.read_csv('dataset/CME_SF2000.csv', sep=',')\n",
    "\n",
    "for ano in range(2001, 2023):\n",
    "    dfx = pd.read_csv('dataset/CME_SF' + str(ano) + '.csv', sep=',')\n",
    "    df_soy = pd.concat([df_soy, dfx], axis=0)\n",
    "    #print(ano)"
   ]
  },
  {
   "cell_type": "code",
   "execution_count": 28,
   "metadata": {},
   "outputs": [
    {
     "data": {
      "text/plain": [
       "(10128, 7)"
      ]
     },
     "execution_count": 28,
     "metadata": {},
     "output_type": "execute_result"
    }
   ],
   "source": [
    "# verificando a quantidade de linhas e colunas do dataframe\n",
    "df_soy.shape"
   ]
  },
  {
   "cell_type": "code",
   "execution_count": 29,
   "metadata": {},
   "outputs": [
    {
     "data": {
      "text/html": [
       "<div>\n",
       "<style scoped>\n",
       "    .dataframe tbody tr th:only-of-type {\n",
       "        vertical-align: middle;\n",
       "    }\n",
       "\n",
       "    .dataframe tbody tr th {\n",
       "        vertical-align: top;\n",
       "    }\n",
       "\n",
       "    .dataframe thead th {\n",
       "        text-align: right;\n",
       "    }\n",
       "</style>\n",
       "<table border=\"1\" class=\"dataframe\">\n",
       "  <thead>\n",
       "    <tr style=\"text-align: right;\">\n",
       "      <th></th>\n",
       "      <th>Date</th>\n",
       "      <th>Open</th>\n",
       "      <th>High</th>\n",
       "      <th>Low</th>\n",
       "      <th>Close</th>\n",
       "      <th>Volume</th>\n",
       "      <th>Open Interest</th>\n",
       "    </tr>\n",
       "  </thead>\n",
       "  <tbody>\n",
       "    <tr>\n",
       "      <th>0</th>\n",
       "      <td>2000-01-14</td>\n",
       "      <td>480.0</td>\n",
       "      <td>490.0</td>\n",
       "      <td>480.0</td>\n",
       "      <td>485.50</td>\n",
       "      <td>992.0</td>\n",
       "      <td>175.0</td>\n",
       "    </tr>\n",
       "    <tr>\n",
       "      <th>1</th>\n",
       "      <td>2000-01-13</td>\n",
       "      <td>472.5</td>\n",
       "      <td>483.5</td>\n",
       "      <td>471.0</td>\n",
       "      <td>481.75</td>\n",
       "      <td>1821.0</td>\n",
       "      <td>1296.0</td>\n",
       "    </tr>\n",
       "    <tr>\n",
       "      <th>2</th>\n",
       "      <td>2000-01-12</td>\n",
       "      <td>479.0</td>\n",
       "      <td>479.0</td>\n",
       "      <td>471.5</td>\n",
       "      <td>472.50</td>\n",
       "      <td>3974.0</td>\n",
       "      <td>2029.0</td>\n",
       "    </tr>\n",
       "  </tbody>\n",
       "</table>\n",
       "</div>"
      ],
      "text/plain": [
       "         Date   Open   High    Low   Close  Volume  Open Interest\n",
       "0  2000-01-14  480.0  490.0  480.0  485.50   992.0          175.0\n",
       "1  2000-01-13  472.5  483.5  471.0  481.75  1821.0         1296.0\n",
       "2  2000-01-12  479.0  479.0  471.5  472.50  3974.0         2029.0"
      ]
     },
     "execution_count": 29,
     "metadata": {},
     "output_type": "execute_result"
    }
   ],
   "source": [
    "# reconhecendo as primeiras linhas do dataframe\n",
    "df_soy.head(3)"
   ]
  },
  {
   "cell_type": "code",
   "execution_count": 30,
   "metadata": {},
   "outputs": [],
   "source": [
    "df_soy['Date'] = df_soy['Date'].astype('datetime64[ns]')"
   ]
  },
  {
   "cell_type": "code",
   "execution_count": 31,
   "metadata": {},
   "outputs": [
    {
     "name": "stdout",
     "output_type": "stream",
     "text": [
      "<class 'pandas.core.frame.DataFrame'>\n",
      "Index: 10128 entries, 0 to 546\n",
      "Data columns (total 7 columns):\n",
      " #   Column         Non-Null Count  Dtype         \n",
      "---  ------         --------------  -----         \n",
      " 0   Date           10128 non-null  datetime64[ns]\n",
      " 1   Open           10128 non-null  float64       \n",
      " 2   High           10128 non-null  float64       \n",
      " 3   Low            10128 non-null  float64       \n",
      " 4   Close          10128 non-null  float64       \n",
      " 5   Volume         10128 non-null  float64       \n",
      " 6   Open Interest  10128 non-null  float64       \n",
      "dtypes: datetime64[ns](1), float64(6)\n",
      "memory usage: 633.0 KB\n"
     ]
    }
   ],
   "source": [
    "# verificando a renomeação das colunas\n",
    "# reconhecendo as variáveis disponíveis\n",
    "# verificando se há dados nulos\n",
    "df_soy.info()"
   ]
  },
  {
   "cell_type": "markdown",
   "metadata": {},
   "source": [
    "- Observando que não há nulos nas variáveis."
   ]
  },
  {
   "cell_type": "code",
   "execution_count": 32,
   "metadata": {},
   "outputs": [
    {
     "data": {
      "text/plain": [
       "Date             0\n",
       "Open             0\n",
       "High             0\n",
       "Low              0\n",
       "Close            0\n",
       "Volume           0\n",
       "Open Interest    0\n",
       "dtype: int64"
      ]
     },
     "execution_count": 32,
     "metadata": {},
     "output_type": "execute_result"
    }
   ],
   "source": [
    "# confirmando a inexistência de nulos\n",
    "df_soy.isnull().sum()"
   ]
  },
  {
   "cell_type": "markdown",
   "metadata": {},
   "source": [
    "- Confirmando, através da função isnull(), que não existem nulos no dataframe."
   ]
  },
  {
   "cell_type": "code",
   "execution_count": 33,
   "metadata": {},
   "outputs": [
    {
     "data": {
      "text/plain": [
       "0"
      ]
     },
     "execution_count": 33,
     "metadata": {},
     "output_type": "execute_result"
    }
   ],
   "source": [
    "# verificando se existe registros duplicados\n",
    "df_soy.duplicated().sum()"
   ]
  },
  {
   "cell_type": "markdown",
   "metadata": {},
   "source": [
    "Não existe linhas duplicadas"
   ]
  },
  {
   "cell_type": "code",
   "execution_count": 34,
   "metadata": {},
   "outputs": [],
   "source": [
    "df_soy.columns = ['Date', 'Open', 'High', 'Low', 'Close', 'Volume', 'Open_Interest']"
   ]
  },
  {
   "cell_type": "code",
   "execution_count": 35,
   "metadata": {},
   "outputs": [],
   "source": [
    "df_soy['Year'] = df_soy['Date'].dt.year"
   ]
  },
  {
   "cell_type": "code",
   "execution_count": 36,
   "metadata": {},
   "outputs": [
    {
     "data": {
      "text/html": [
       "<div>\n",
       "<style scoped>\n",
       "    .dataframe tbody tr th:only-of-type {\n",
       "        vertical-align: middle;\n",
       "    }\n",
       "\n",
       "    .dataframe tbody tr th {\n",
       "        vertical-align: top;\n",
       "    }\n",
       "\n",
       "    .dataframe thead th {\n",
       "        text-align: right;\n",
       "    }\n",
       "</style>\n",
       "<table border=\"1\" class=\"dataframe\">\n",
       "  <thead>\n",
       "    <tr style=\"text-align: right;\">\n",
       "      <th></th>\n",
       "      <th>Date</th>\n",
       "      <th>Open</th>\n",
       "      <th>High</th>\n",
       "      <th>Low</th>\n",
       "      <th>Close</th>\n",
       "      <th>Volume</th>\n",
       "      <th>Open_Interest</th>\n",
       "      <th>Year</th>\n",
       "    </tr>\n",
       "  </thead>\n",
       "  <tbody>\n",
       "    <tr>\n",
       "      <th>0</th>\n",
       "      <td>2000-01-14</td>\n",
       "      <td>480.0</td>\n",
       "      <td>490.00</td>\n",
       "      <td>480.00</td>\n",
       "      <td>485.50</td>\n",
       "      <td>992.0</td>\n",
       "      <td>175.0</td>\n",
       "      <td>2000</td>\n",
       "    </tr>\n",
       "    <tr>\n",
       "      <th>1</th>\n",
       "      <td>2000-01-13</td>\n",
       "      <td>472.5</td>\n",
       "      <td>483.50</td>\n",
       "      <td>471.00</td>\n",
       "      <td>481.75</td>\n",
       "      <td>1821.0</td>\n",
       "      <td>1296.0</td>\n",
       "      <td>2000</td>\n",
       "    </tr>\n",
       "    <tr>\n",
       "      <th>2</th>\n",
       "      <td>2000-01-12</td>\n",
       "      <td>479.0</td>\n",
       "      <td>479.00</td>\n",
       "      <td>471.50</td>\n",
       "      <td>472.50</td>\n",
       "      <td>3974.0</td>\n",
       "      <td>2029.0</td>\n",
       "      <td>2000</td>\n",
       "    </tr>\n",
       "    <tr>\n",
       "      <th>3</th>\n",
       "      <td>2000-01-11</td>\n",
       "      <td>465.0</td>\n",
       "      <td>470.75</td>\n",
       "      <td>464.00</td>\n",
       "      <td>467.00</td>\n",
       "      <td>4544.0</td>\n",
       "      <td>2841.0</td>\n",
       "      <td>2000</td>\n",
       "    </tr>\n",
       "    <tr>\n",
       "      <th>4</th>\n",
       "      <td>2000-01-10</td>\n",
       "      <td>466.0</td>\n",
       "      <td>469.25</td>\n",
       "      <td>465.00</td>\n",
       "      <td>466.25</td>\n",
       "      <td>6265.0</td>\n",
       "      <td>3635.0</td>\n",
       "      <td>2000</td>\n",
       "    </tr>\n",
       "    <tr>\n",
       "      <th>5</th>\n",
       "      <td>2000-01-07</td>\n",
       "      <td>467.5</td>\n",
       "      <td>472.00</td>\n",
       "      <td>466.50</td>\n",
       "      <td>471.50</td>\n",
       "      <td>8942.0</td>\n",
       "      <td>4491.0</td>\n",
       "      <td>2000</td>\n",
       "    </tr>\n",
       "    <tr>\n",
       "      <th>6</th>\n",
       "      <td>2000-01-06</td>\n",
       "      <td>469.5</td>\n",
       "      <td>473.00</td>\n",
       "      <td>468.00</td>\n",
       "      <td>468.00</td>\n",
       "      <td>7559.0</td>\n",
       "      <td>6477.0</td>\n",
       "      <td>2000</td>\n",
       "    </tr>\n",
       "    <tr>\n",
       "      <th>7</th>\n",
       "      <td>2000-01-05</td>\n",
       "      <td>464.0</td>\n",
       "      <td>470.00</td>\n",
       "      <td>462.50</td>\n",
       "      <td>469.25</td>\n",
       "      <td>11035.0</td>\n",
       "      <td>7495.0</td>\n",
       "      <td>2000</td>\n",
       "    </tr>\n",
       "    <tr>\n",
       "      <th>8</th>\n",
       "      <td>2000-01-04</td>\n",
       "      <td>458.5</td>\n",
       "      <td>466.00</td>\n",
       "      <td>458.25</td>\n",
       "      <td>464.25</td>\n",
       "      <td>8543.0</td>\n",
       "      <td>10015.0</td>\n",
       "      <td>2000</td>\n",
       "    </tr>\n",
       "    <tr>\n",
       "      <th>9</th>\n",
       "      <td>2000-01-03</td>\n",
       "      <td>464.0</td>\n",
       "      <td>466.00</td>\n",
       "      <td>455.75</td>\n",
       "      <td>456.50</td>\n",
       "      <td>6168.0</td>\n",
       "      <td>11516.0</td>\n",
       "      <td>2000</td>\n",
       "    </tr>\n",
       "  </tbody>\n",
       "</table>\n",
       "</div>"
      ],
      "text/plain": [
       "        Date   Open    High     Low   Close   Volume  Open_Interest  Year\n",
       "0 2000-01-14  480.0  490.00  480.00  485.50    992.0          175.0  2000\n",
       "1 2000-01-13  472.5  483.50  471.00  481.75   1821.0         1296.0  2000\n",
       "2 2000-01-12  479.0  479.00  471.50  472.50   3974.0         2029.0  2000\n",
       "3 2000-01-11  465.0  470.75  464.00  467.00   4544.0         2841.0  2000\n",
       "4 2000-01-10  466.0  469.25  465.00  466.25   6265.0         3635.0  2000\n",
       "5 2000-01-07  467.5  472.00  466.50  471.50   8942.0         4491.0  2000\n",
       "6 2000-01-06  469.5  473.00  468.00  468.00   7559.0         6477.0  2000\n",
       "7 2000-01-05  464.0  470.00  462.50  469.25  11035.0         7495.0  2000\n",
       "8 2000-01-04  458.5  466.00  458.25  464.25   8543.0        10015.0  2000\n",
       "9 2000-01-03  464.0  466.00  455.75  456.50   6168.0        11516.0  2000"
      ]
     },
     "execution_count": 36,
     "metadata": {},
     "output_type": "execute_result"
    }
   ],
   "source": [
    "# verificando o conteudo de cada coluna (variável) do dataframe\n",
    "pd.set_option('display.width', 100)\n",
    "df_soy.head(10)"
   ]
  },
  {
   "cell_type": "markdown",
   "metadata": {},
   "source": [
    "- Observamos que temos todas as variáveis numéricas, algumas contínuas e outras discretas.\n",
    "- Vamos manter as variáveis como estão e aprofundar mais em suas características."
   ]
  },
  {
   "cell_type": "code",
   "execution_count": 37,
   "metadata": {},
   "outputs": [
    {
     "data": {
      "text/plain": [
       "Date\n",
       "1998     36\n",
       "1999    251\n",
       "2000    290\n",
       "2001    272\n",
       "2002    344\n",
       "2003    306\n",
       "2004    316\n",
       "2005    359\n",
       "2006    356\n",
       "2007    441\n",
       "2008    401\n",
       "2009    545\n",
       "2010    547\n",
       "2011    514\n",
       "2012    547\n",
       "2013    546\n",
       "2014    546\n",
       "2015    546\n",
       "2016    546\n",
       "2017    543\n",
       "2018    545\n",
       "2019    545\n",
       "2020    515\n",
       "2021    261\n",
       "2022     10\n",
       "Name: Date, dtype: int64"
      ]
     },
     "execution_count": 37,
     "metadata": {},
     "output_type": "execute_result"
    }
   ],
   "source": [
    "df_soy.groupby(df_soy['Date'].dt.year)['Date'].count()"
   ]
  },
  {
   "cell_type": "code",
   "execution_count": 38,
   "metadata": {},
   "outputs": [],
   "source": [
    "df_soy = df_soy.drop(df_soy.loc[df_soy['Date'].dt.year==1998].index)\n",
    "df_soy = df_soy.drop(df_soy.loc[df_soy['Date'].dt.year==2022].index)"
   ]
  },
  {
   "cell_type": "code",
   "execution_count": 39,
   "metadata": {},
   "outputs": [],
   "source": [
    "df_soy = df_soy.sort_values('Date')"
   ]
  },
  {
   "cell_type": "code",
   "execution_count": 40,
   "metadata": {},
   "outputs": [],
   "source": [
    "# atualizando a numeração do indice do dataframe\n",
    "df_soy = df_soy.reset_index()\n",
    "df_soy = df_soy.drop('index', axis=1)"
   ]
  },
  {
   "cell_type": "code",
   "execution_count": 41,
   "metadata": {},
   "outputs": [
    {
     "name": "stdout",
     "output_type": "stream",
     "text": [
      "<class 'pandas.core.frame.DataFrame'>\n",
      "RangeIndex: 9276 entries, 0 to 9275\n",
      "Data columns (total 8 columns):\n",
      " #   Column         Non-Null Count  Dtype         \n",
      "---  ------         --------------  -----         \n",
      " 0   Date           9276 non-null   datetime64[ns]\n",
      " 1   Open           9276 non-null   float64       \n",
      " 2   High           9276 non-null   float64       \n",
      " 3   Low            9276 non-null   float64       \n",
      " 4   Close          9276 non-null   float64       \n",
      " 5   Volume         9276 non-null   float64       \n",
      " 6   Open_Interest  9276 non-null   float64       \n",
      " 7   Year           9276 non-null   int32         \n",
      "dtypes: datetime64[ns](1), float64(6), int32(1)\n",
      "memory usage: 543.6 KB\n"
     ]
    }
   ],
   "source": [
    "df_soy.info()"
   ]
  },
  {
   "cell_type": "code",
   "execution_count": 42,
   "metadata": {},
   "outputs": [
    {
     "data": {
      "text/plain": [
       "Date\n",
       "1999    251\n",
       "2000    267\n",
       "2001    259\n",
       "2002    308\n",
       "2003    270\n",
       "2004    280\n",
       "2005    323\n",
       "2006    320\n",
       "2007    406\n",
       "2008    354\n",
       "2009    502\n",
       "2010    510\n",
       "2011    469\n",
       "2012    502\n",
       "2013    502\n",
       "2014    501\n",
       "2015    502\n",
       "2016    502\n",
       "2017    499\n",
       "2018    500\n",
       "2019    510\n",
       "2020    490\n",
       "2021    249\n",
       "Name: Date, dtype: int64"
      ]
     },
     "execution_count": 42,
     "metadata": {},
     "output_type": "execute_result"
    }
   ],
   "source": [
    "df_soy.groupby(df_soy['Date'].dt.year)['Date'].count()"
   ]
  },
  {
   "cell_type": "code",
   "execution_count": 43,
   "metadata": {},
   "outputs": [],
   "source": [
    "# montando a query para agrupar a soma dos valores por cluster\n",
    "from pandasql import sqldf\n",
    "\n",
    "df_soy_ano = sqldf(\n",
    "             \" select Year, avg(Close) as Close,\" \\\n",
    "             \"        avg(Volume) as Volume, avg(Open_Interest) as Open_Interest\"\n",
    "             \" from df_soy \" \\\n",
    "             \" group by 1 \" \\\n",
    "             \" order by 1 \"\n",
    "             )"
   ]
  },
  {
   "cell_type": "code",
   "execution_count": 44,
   "metadata": {},
   "outputs": [
    {
     "data": {
      "text/html": [
       "<div>\n",
       "<style scoped>\n",
       "    .dataframe tbody tr th:only-of-type {\n",
       "        vertical-align: middle;\n",
       "    }\n",
       "\n",
       "    .dataframe tbody tr th {\n",
       "        vertical-align: top;\n",
       "    }\n",
       "\n",
       "    .dataframe thead th {\n",
       "        text-align: right;\n",
       "    }\n",
       "</style>\n",
       "<table border=\"1\" class=\"dataframe\">\n",
       "  <thead>\n",
       "    <tr style=\"text-align: right;\">\n",
       "      <th></th>\n",
       "      <th>Year</th>\n",
       "      <th>Close</th>\n",
       "      <th>Volume</th>\n",
       "      <th>Open_Interest</th>\n",
       "    </tr>\n",
       "  </thead>\n",
       "  <tbody>\n",
       "    <tr>\n",
       "      <th>0</th>\n",
       "      <td>1999</td>\n",
       "      <td>494.774900</td>\n",
       "      <td>6241.031873</td>\n",
       "      <td>20862.055777</td>\n",
       "    </tr>\n",
       "    <tr>\n",
       "      <th>1</th>\n",
       "      <td>2000</td>\n",
       "      <td>515.311798</td>\n",
       "      <td>5973.734082</td>\n",
       "      <td>18628.430712</td>\n",
       "    </tr>\n",
       "    <tr>\n",
       "      <th>2</th>\n",
       "      <td>2001</td>\n",
       "      <td>465.935328</td>\n",
       "      <td>6528.814672</td>\n",
       "      <td>19288.749035</td>\n",
       "    </tr>\n",
       "    <tr>\n",
       "      <th>3</th>\n",
       "      <td>2002</td>\n",
       "      <td>510.805195</td>\n",
       "      <td>6486.564935</td>\n",
       "      <td>18701.701299</td>\n",
       "    </tr>\n",
       "    <tr>\n",
       "      <th>4</th>\n",
       "      <td>2003</td>\n",
       "      <td>600.986111</td>\n",
       "      <td>10197.392593</td>\n",
       "      <td>26183.707407</td>\n",
       "    </tr>\n",
       "    <tr>\n",
       "      <th>5</th>\n",
       "      <td>2004</td>\n",
       "      <td>637.058929</td>\n",
       "      <td>7763.796429</td>\n",
       "      <td>22981.889286</td>\n",
       "    </tr>\n",
       "    <tr>\n",
       "      <th>6</th>\n",
       "      <td>2005</td>\n",
       "      <td>612.671827</td>\n",
       "      <td>7574.046440</td>\n",
       "      <td>27300.061920</td>\n",
       "    </tr>\n",
       "    <tr>\n",
       "      <th>7</th>\n",
       "      <td>2006</td>\n",
       "      <td>621.449219</td>\n",
       "      <td>4392.878125</td>\n",
       "      <td>38252.915625</td>\n",
       "    </tr>\n",
       "    <tr>\n",
       "      <th>8</th>\n",
       "      <td>2007</td>\n",
       "      <td>893.030172</td>\n",
       "      <td>3452.514778</td>\n",
       "      <td>41834.189655</td>\n",
       "    </tr>\n",
       "    <tr>\n",
       "      <th>9</th>\n",
       "      <td>2008</td>\n",
       "      <td>1171.872175</td>\n",
       "      <td>1657.138418</td>\n",
       "      <td>33738.039548</td>\n",
       "    </tr>\n",
       "    <tr>\n",
       "      <th>10</th>\n",
       "      <td>2009</td>\n",
       "      <td>956.653386</td>\n",
       "      <td>10303.342629</td>\n",
       "      <td>30003.310757</td>\n",
       "    </tr>\n",
       "    <tr>\n",
       "      <th>11</th>\n",
       "      <td>2010</td>\n",
       "      <td>1029.475980</td>\n",
       "      <td>12403.031373</td>\n",
       "      <td>40609.543137</td>\n",
       "    </tr>\n",
       "    <tr>\n",
       "      <th>12</th>\n",
       "      <td>2011</td>\n",
       "      <td>1293.172708</td>\n",
       "      <td>13783.390192</td>\n",
       "      <td>39868.070362</td>\n",
       "    </tr>\n",
       "    <tr>\n",
       "      <th>13</th>\n",
       "      <td>2012</td>\n",
       "      <td>1347.442231</td>\n",
       "      <td>14076.031873</td>\n",
       "      <td>44512.318725</td>\n",
       "    </tr>\n",
       "    <tr>\n",
       "      <th>14</th>\n",
       "      <td>2013</td>\n",
       "      <td>1254.856076</td>\n",
       "      <td>13824.209163</td>\n",
       "      <td>37955.227092</td>\n",
       "    </tr>\n",
       "    <tr>\n",
       "      <th>15</th>\n",
       "      <td>2014</td>\n",
       "      <td>1105.537425</td>\n",
       "      <td>15414.419162</td>\n",
       "      <td>41997.656687</td>\n",
       "    </tr>\n",
       "    <tr>\n",
       "      <th>16</th>\n",
       "      <td>2015</td>\n",
       "      <td>936.258466</td>\n",
       "      <td>14614.434263</td>\n",
       "      <td>38452.414343</td>\n",
       "    </tr>\n",
       "    <tr>\n",
       "      <th>17</th>\n",
       "      <td>2016</td>\n",
       "      <td>964.665837</td>\n",
       "      <td>15200.569721</td>\n",
       "      <td>41083.189243</td>\n",
       "    </tr>\n",
       "    <tr>\n",
       "      <th>18</th>\n",
       "      <td>2017</td>\n",
       "      <td>980.100200</td>\n",
       "      <td>15067.256513</td>\n",
       "      <td>42423.352705</td>\n",
       "    </tr>\n",
       "    <tr>\n",
       "      <th>19</th>\n",
       "      <td>2018</td>\n",
       "      <td>954.262500</td>\n",
       "      <td>14349.962000</td>\n",
       "      <td>49977.834000</td>\n",
       "    </tr>\n",
       "    <tr>\n",
       "      <th>20</th>\n",
       "      <td>2019</td>\n",
       "      <td>937.391176</td>\n",
       "      <td>14807.956863</td>\n",
       "      <td>46861.472549</td>\n",
       "    </tr>\n",
       "    <tr>\n",
       "      <th>21</th>\n",
       "      <td>2020</td>\n",
       "      <td>940.882143</td>\n",
       "      <td>18923.048980</td>\n",
       "      <td>59550.159184</td>\n",
       "    </tr>\n",
       "    <tr>\n",
       "      <th>22</th>\n",
       "      <td>2021</td>\n",
       "      <td>1291.821285</td>\n",
       "      <td>29331.309237</td>\n",
       "      <td>83617.742972</td>\n",
       "    </tr>\n",
       "  </tbody>\n",
       "</table>\n",
       "</div>"
      ],
      "text/plain": [
       "    Year        Close        Volume  Open_Interest\n",
       "0   1999   494.774900   6241.031873   20862.055777\n",
       "1   2000   515.311798   5973.734082   18628.430712\n",
       "2   2001   465.935328   6528.814672   19288.749035\n",
       "3   2002   510.805195   6486.564935   18701.701299\n",
       "4   2003   600.986111  10197.392593   26183.707407\n",
       "5   2004   637.058929   7763.796429   22981.889286\n",
       "6   2005   612.671827   7574.046440   27300.061920\n",
       "7   2006   621.449219   4392.878125   38252.915625\n",
       "8   2007   893.030172   3452.514778   41834.189655\n",
       "9   2008  1171.872175   1657.138418   33738.039548\n",
       "10  2009   956.653386  10303.342629   30003.310757\n",
       "11  2010  1029.475980  12403.031373   40609.543137\n",
       "12  2011  1293.172708  13783.390192   39868.070362\n",
       "13  2012  1347.442231  14076.031873   44512.318725\n",
       "14  2013  1254.856076  13824.209163   37955.227092\n",
       "15  2014  1105.537425  15414.419162   41997.656687\n",
       "16  2015   936.258466  14614.434263   38452.414343\n",
       "17  2016   964.665837  15200.569721   41083.189243\n",
       "18  2017   980.100200  15067.256513   42423.352705\n",
       "19  2018   954.262500  14349.962000   49977.834000\n",
       "20  2019   937.391176  14807.956863   46861.472549\n",
       "21  2020   940.882143  18923.048980   59550.159184\n",
       "22  2021  1291.821285  29331.309237   83617.742972"
      ]
     },
     "execution_count": 44,
     "metadata": {},
     "output_type": "execute_result"
    }
   ],
   "source": [
    "df_soy_ano"
   ]
  },
  {
   "cell_type": "code",
   "execution_count": 45,
   "metadata": {},
   "outputs": [
    {
     "data": {
      "image/png": "[encoded data removed]",
      "text/plain": [
       "<Figure size 1000x500 with 1 Axes>"
      ]
     },
     "metadata": {},
     "output_type": "display_data"
    }
   ],
   "source": [
    "# plot da cotação do preço da cenoura de verão AAA e inverno A com a variação da temperatura x10 para melhor comparar\n",
    "# a variação entre o Preço e a Temperatura os dados que serão plotados são os originais, sem a normalização\n",
    "fig,ax = plt.subplots(ncols=1,figsize=(10,5))\n",
    "\n",
    "plt.plot(df_soy_ano.Year, df_soy_ano.Close*10, label = \"(Preço médio)*10 de fechamento no ano\", linewidth=4, color='red') \n",
    "plt.plot(df_soy_ano.Year, df_soy_ano.Volume, label = \"Nro médio de títulos no ano\", linewidth=4, color='blue') \n",
    "plt.plot(df_soy_ano.Year, df_soy_ano.Open_Interest, label = \"Fluxo médio de vrs no ano\", linewidth=4, color='orange')  \n",
    "\n",
    "plt.title('Valores médio no ano')\n",
    "plt.legend() \n",
    "\n",
    "plt.savefig('grafic_image/valores_medio_ano.png', format='png')\n",
    "plt.show()"
   ]
  },
  {
   "cell_type": "code",
   "execution_count": 46,
   "metadata": {},
   "outputs": [],
   "source": [
    "# salva os dados tratados em arquivo csv organizado pelo índice\n",
    "df_soy.sort_index().to_csv('df_treated/df_soy_treated.csv', index=False)"
   ]
  }
 ],
 "metadata": {
  "kernelspec": {
   "display_name": "Python 3",
   "language": "python",
   "name": "python3"
  },
  "language_info": {
   "codemirror_mode": {
    "name": "ipython",
    "version": 3
   },
   "file_extension": ".py",
   "mimetype": "text/x-python",
   "name": "python",
   "nbconvert_exporter": "python",
   "pygments_lexer": "ipython3",
   "version": "3.11.5"
  }
 },
 "nbformat": 4,
 "nbformat_minor": 2
}
