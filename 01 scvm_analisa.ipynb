{
 "cells": [
  {
   "cell_type": "markdown",
   "metadata": {},
   "source": [
    "## Projeto soybean compra venda mantem\n",
    "\n",
    "### Objective:\n",
    "- This project aims to create clusters defined according to the characteristics of credit card holders, grouping these holders and characterizing the clusters based on the occurrence of the variables used.\n",
    "\n",
    "- Esse projeto tem como objetivo treinar um modelo, utilizando aprendizado por reforço, que nos orientará se no momento atual devemos comprar, vender ou manter os títulos (contratos) de soja futuros.\n",
    "\n",
    "### Data Origin:\n",
    "- Dataset: https://www.kaggle.com/datasets/choweric/cbot-soybeans/data\n",
    "\n",
    "- This project aims to train a model, using reinforcement learning, that will guide us whether we should currently buy, sell or hold future soybean bonds (contracts).\n",
    "\n",
    "- O Dataset de cotação do preço da soja apresenta cotações diárias com data do dia de cotação dos valores de títulos futuros da soja na bolsa de valores, com valores percorridos durante todo o dia.\n",
    "\n",
    "- A seguir está o Dicionário de Dados para o conjunto de dados cotação de título de soja:\n",
    "\n",
    "    Date: data da ocorrência da cotação\n",
    "\n",
    "    Open: valor cotado na abertura dos trabalhos de negociação\n",
    "\n",
    "    High: valor máximo atingido no período de negociação\n",
    "\n",
    "    Low:  valor mínimo atingido no período de negociação\n",
    "\n",
    "    Volume: nro de contratos negociados no período de negociação\n",
    "    \n",
    "    Open interest: fluxo de dinheiro para dentro ou para fora de um mercado de futuros"
   ]
  },
  {
   "cell_type": "markdown",
   "metadata": {},
   "source": [
    "- ## Análise exploratória dos dados\n",
    "- ## Preparação dos dados\n",
    "- ## Armazenamento dos dados tratados"
   ]
  },
  {
   "cell_type": "code",
   "execution_count": 355,
   "metadata": {},
   "outputs": [],
   "source": [
    "# maximiza nro de linhas e colunas para exibição\n",
    "# inibe mensagens de warning\n",
    "import pandas as pd\n",
    "pd.set_option('display.max_rows', None) # permite a máxima visualização das linhas em um display\n",
    "pd.set_option('display.max_columns', None) # permite a máxima visualização das colunas em um display\n",
    "import warnings\n",
    "warnings.simplefilter('ignore') # inibe a exibição de avisos de warning"
   ]
  },
  {
   "cell_type": "code",
   "execution_count": 356,
   "metadata": {},
   "outputs": [],
   "source": [
    "# preparação e visualização de dados\n",
    "from sklearn.compose import ColumnTransformer # Aplica transformadores a colunas de um array ou pandas DataFrame\n",
    "\n",
    "from sklearn.preprocessing import (\n",
    "    #OneHotEncoder, # transforma dados categóricos em colunas e valores binário 0-1\n",
    "    #StandardScaler, # faz a padronização dos dados para melhorar a normalidade\n",
    "    MinMaxScaler, # transforma os valores dentro de uma escala entre 0 e 1 e melhora a normalidade\n",
    "    PowerTransformer, # transforma os valores para melhorar a normalidade\n",
    ")\n",
    "\n",
    "from matplotlib import pyplot as plt # plotagem gráfica\n",
    "import seaborn as sns # plotagem gráfica baseada em matplotlib"
   ]
  },
  {
   "cell_type": "code",
   "execution_count": 357,
   "metadata": {},
   "outputs": [],
   "source": [
    "#import quandl\n",
    "#quandl.ApiConfig.api_key = 'g6yeFE8yJLssq1bfySKy'\n",
    "#df_soy = pd.DataFrame(quandl.get('WIKI/XXXXX'))"
   ]
  },
  {
   "cell_type": "code",
   "execution_count": 358,
   "metadata": {},
   "outputs": [],
   "source": [
    "df_soy = pd.read_csv('dataset/CME_SF2000.csv', sep=',')\n",
    "\n",
    "for ano in range(2001, 2023):\n",
    "    dfx = pd.read_csv('dataset/CME_SF' + str(ano) + '.csv', sep=',')\n",
    "    df_soy = pd.concat([df_soy, dfx], axis=0)\n",
    "    #print(ano)"
   ]
  },
  {
   "cell_type": "code",
   "execution_count": 359,
   "metadata": {},
   "outputs": [
    {
     "data": {
      "text/plain": [
       "(10128, 7)"
      ]
     },
     "execution_count": 359,
     "metadata": {},
     "output_type": "execute_result"
    }
   ],
   "source": [
    "# verificando a quantidade de linhas e colunas do dataframe\n",
    "df_soy.shape"
   ]
  },
  {
   "cell_type": "code",
   "execution_count": 360,
   "metadata": {},
   "outputs": [
    {
     "data": {
      "text/html": [
       "<div>\n",
       "<style scoped>\n",
       "    .dataframe tbody tr th:only-of-type {\n",
       "        vertical-align: middle;\n",
       "    }\n",
       "\n",
       "    .dataframe tbody tr th {\n",
       "        vertical-align: top;\n",
       "    }\n",
       "\n",
       "    .dataframe thead th {\n",
       "        text-align: right;\n",
       "    }\n",
       "</style>\n",
       "<table border=\"1\" class=\"dataframe\">\n",
       "  <thead>\n",
       "    <tr style=\"text-align: right;\">\n",
       "      <th></th>\n",
       "      <th>Date</th>\n",
       "      <th>Open</th>\n",
       "      <th>High</th>\n",
       "      <th>Low</th>\n",
       "      <th>Close</th>\n",
       "      <th>Volume</th>\n",
       "      <th>Open Interest</th>\n",
       "    </tr>\n",
       "  </thead>\n",
       "  <tbody>\n",
       "    <tr>\n",
       "      <th>0</th>\n",
       "      <td>2000-01-14</td>\n",
       "      <td>480.0</td>\n",
       "      <td>490.0</td>\n",
       "      <td>480.0</td>\n",
       "      <td>485.50</td>\n",
       "      <td>992.0</td>\n",
       "      <td>175.0</td>\n",
       "    </tr>\n",
       "    <tr>\n",
       "      <th>1</th>\n",
       "      <td>2000-01-13</td>\n",
       "      <td>472.5</td>\n",
       "      <td>483.5</td>\n",
       "      <td>471.0</td>\n",
       "      <td>481.75</td>\n",
       "      <td>1821.0</td>\n",
       "      <td>1296.0</td>\n",
       "    </tr>\n",
       "    <tr>\n",
       "      <th>2</th>\n",
       "      <td>2000-01-12</td>\n",
       "      <td>479.0</td>\n",
       "      <td>479.0</td>\n",
       "      <td>471.5</td>\n",
       "      <td>472.50</td>\n",
       "      <td>3974.0</td>\n",
       "      <td>2029.0</td>\n",
       "    </tr>\n",
       "  </tbody>\n",
       "</table>\n",
       "</div>"
      ],
      "text/plain": [
       "         Date   Open   High    Low   Close  Volume  Open Interest\n",
       "0  2000-01-14  480.0  490.0  480.0  485.50   992.0          175.0\n",
       "1  2000-01-13  472.5  483.5  471.0  481.75  1821.0         1296.0\n",
       "2  2000-01-12  479.0  479.0  471.5  472.50  3974.0         2029.0"
      ]
     },
     "execution_count": 360,
     "metadata": {},
     "output_type": "execute_result"
    }
   ],
   "source": [
    "# reconhecendo as primeiras linhas do dataframe\n",
    "df_soy.head(3)"
   ]
  },
  {
   "cell_type": "code",
   "execution_count": 361,
   "metadata": {},
   "outputs": [],
   "source": [
    "df_soy['Date'] = df_soy['Date'].astype('datetime64[ns]')"
   ]
  },
  {
   "cell_type": "code",
   "execution_count": 362,
   "metadata": {},
   "outputs": [
    {
     "name": "stdout",
     "output_type": "stream",
     "text": [
      "<class 'pandas.core.frame.DataFrame'>\n",
      "Index: 10128 entries, 0 to 546\n",
      "Data columns (total 7 columns):\n",
      " #   Column         Non-Null Count  Dtype         \n",
      "---  ------         --------------  -----         \n",
      " 0   Date           10128 non-null  datetime64[ns]\n",
      " 1   Open           10128 non-null  float64       \n",
      " 2   High           10128 non-null  float64       \n",
      " 3   Low            10128 non-null  float64       \n",
      " 4   Close          10128 non-null  float64       \n",
      " 5   Volume         10128 non-null  float64       \n",
      " 6   Open Interest  10128 non-null  float64       \n",
      "dtypes: datetime64[ns](1), float64(6)\n",
      "memory usage: 633.0 KB\n"
     ]
    }
   ],
   "source": [
    "# verificando a renomeação das colunas\n",
    "# reconhecendo as variáveis disponíveis\n",
    "# verificando se há dados nulos\n",
    "df_soy.info()"
   ]
  },
  {
   "cell_type": "markdown",
   "metadata": {},
   "source": [
    "- Observando que não há nulos nas variáveis."
   ]
  },
  {
   "cell_type": "code",
   "execution_count": 363,
   "metadata": {},
   "outputs": [
    {
     "data": {
      "text/plain": [
       "Date             0\n",
       "Open             0\n",
       "High             0\n",
       "Low              0\n",
       "Close            0\n",
       "Volume           0\n",
       "Open Interest    0\n",
       "dtype: int64"
      ]
     },
     "execution_count": 363,
     "metadata": {},
     "output_type": "execute_result"
    }
   ],
   "source": [
    "# confirmando a inexistência de nulos\n",
    "df_soy.isnull().sum()"
   ]
  },
  {
   "cell_type": "markdown",
   "metadata": {},
   "source": [
    "- Confirmando, através da função isnull(), que não existem nulos no dataframe."
   ]
  },
  {
   "cell_type": "code",
   "execution_count": 364,
   "metadata": {},
   "outputs": [
    {
     "data": {
      "text/plain": [
       "0"
      ]
     },
     "execution_count": 364,
     "metadata": {},
     "output_type": "execute_result"
    }
   ],
   "source": [
    "# verificando se existe registros duplicados\n",
    "df_soy.duplicated().sum()"
   ]
  },
  {
   "cell_type": "markdown",
   "metadata": {},
   "source": [
    "Não existe linhas duplicadas"
   ]
  },
  {
   "cell_type": "code",
   "execution_count": 365,
   "metadata": {},
   "outputs": [],
   "source": [
    "df_soy.columns = ['Date', 'Open', 'High', 'Low', 'Close', 'Volume', 'Open_Interest']"
   ]
  },
  {
   "cell_type": "code",
   "execution_count": 366,
   "metadata": {},
   "outputs": [],
   "source": [
    "df_soy['Year'] = df_soy['Date'].dt.year\n",
    "df_soy['Month'] = df_soy['Date'].dt.month"
   ]
  },
  {
   "cell_type": "code",
   "execution_count": 367,
   "metadata": {},
   "outputs": [
    {
     "data": {
      "text/html": [
       "<div>\n",
       "<style scoped>\n",
       "    .dataframe tbody tr th:only-of-type {\n",
       "        vertical-align: middle;\n",
       "    }\n",
       "\n",
       "    .dataframe tbody tr th {\n",
       "        vertical-align: top;\n",
       "    }\n",
       "\n",
       "    .dataframe thead th {\n",
       "        text-align: right;\n",
       "    }\n",
       "</style>\n",
       "<table border=\"1\" class=\"dataframe\">\n",
       "  <thead>\n",
       "    <tr style=\"text-align: right;\">\n",
       "      <th></th>\n",
       "      <th>Date</th>\n",
       "      <th>Open</th>\n",
       "      <th>High</th>\n",
       "      <th>Low</th>\n",
       "      <th>Close</th>\n",
       "      <th>Volume</th>\n",
       "      <th>Open_Interest</th>\n",
       "      <th>Year</th>\n",
       "      <th>Month</th>\n",
       "    </tr>\n",
       "  </thead>\n",
       "  <tbody>\n",
       "    <tr>\n",
       "      <th>0</th>\n",
       "      <td>2000-01-14</td>\n",
       "      <td>480.0</td>\n",
       "      <td>490.00</td>\n",
       "      <td>480.00</td>\n",
       "      <td>485.50</td>\n",
       "      <td>992.0</td>\n",
       "      <td>175.0</td>\n",
       "      <td>2000</td>\n",
       "      <td>1</td>\n",
       "    </tr>\n",
       "    <tr>\n",
       "      <th>1</th>\n",
       "      <td>2000-01-13</td>\n",
       "      <td>472.5</td>\n",
       "      <td>483.50</td>\n",
       "      <td>471.00</td>\n",
       "      <td>481.75</td>\n",
       "      <td>1821.0</td>\n",
       "      <td>1296.0</td>\n",
       "      <td>2000</td>\n",
       "      <td>1</td>\n",
       "    </tr>\n",
       "    <tr>\n",
       "      <th>2</th>\n",
       "      <td>2000-01-12</td>\n",
       "      <td>479.0</td>\n",
       "      <td>479.00</td>\n",
       "      <td>471.50</td>\n",
       "      <td>472.50</td>\n",
       "      <td>3974.0</td>\n",
       "      <td>2029.0</td>\n",
       "      <td>2000</td>\n",
       "      <td>1</td>\n",
       "    </tr>\n",
       "    <tr>\n",
       "      <th>3</th>\n",
       "      <td>2000-01-11</td>\n",
       "      <td>465.0</td>\n",
       "      <td>470.75</td>\n",
       "      <td>464.00</td>\n",
       "      <td>467.00</td>\n",
       "      <td>4544.0</td>\n",
       "      <td>2841.0</td>\n",
       "      <td>2000</td>\n",
       "      <td>1</td>\n",
       "    </tr>\n",
       "    <tr>\n",
       "      <th>4</th>\n",
       "      <td>2000-01-10</td>\n",
       "      <td>466.0</td>\n",
       "      <td>469.25</td>\n",
       "      <td>465.00</td>\n",
       "      <td>466.25</td>\n",
       "      <td>6265.0</td>\n",
       "      <td>3635.0</td>\n",
       "      <td>2000</td>\n",
       "      <td>1</td>\n",
       "    </tr>\n",
       "    <tr>\n",
       "      <th>5</th>\n",
       "      <td>2000-01-07</td>\n",
       "      <td>467.5</td>\n",
       "      <td>472.00</td>\n",
       "      <td>466.50</td>\n",
       "      <td>471.50</td>\n",
       "      <td>8942.0</td>\n",
       "      <td>4491.0</td>\n",
       "      <td>2000</td>\n",
       "      <td>1</td>\n",
       "    </tr>\n",
       "    <tr>\n",
       "      <th>6</th>\n",
       "      <td>2000-01-06</td>\n",
       "      <td>469.5</td>\n",
       "      <td>473.00</td>\n",
       "      <td>468.00</td>\n",
       "      <td>468.00</td>\n",
       "      <td>7559.0</td>\n",
       "      <td>6477.0</td>\n",
       "      <td>2000</td>\n",
       "      <td>1</td>\n",
       "    </tr>\n",
       "    <tr>\n",
       "      <th>7</th>\n",
       "      <td>2000-01-05</td>\n",
       "      <td>464.0</td>\n",
       "      <td>470.00</td>\n",
       "      <td>462.50</td>\n",
       "      <td>469.25</td>\n",
       "      <td>11035.0</td>\n",
       "      <td>7495.0</td>\n",
       "      <td>2000</td>\n",
       "      <td>1</td>\n",
       "    </tr>\n",
       "    <tr>\n",
       "      <th>8</th>\n",
       "      <td>2000-01-04</td>\n",
       "      <td>458.5</td>\n",
       "      <td>466.00</td>\n",
       "      <td>458.25</td>\n",
       "      <td>464.25</td>\n",
       "      <td>8543.0</td>\n",
       "      <td>10015.0</td>\n",
       "      <td>2000</td>\n",
       "      <td>1</td>\n",
       "    </tr>\n",
       "    <tr>\n",
       "      <th>9</th>\n",
       "      <td>2000-01-03</td>\n",
       "      <td>464.0</td>\n",
       "      <td>466.00</td>\n",
       "      <td>455.75</td>\n",
       "      <td>456.50</td>\n",
       "      <td>6168.0</td>\n",
       "      <td>11516.0</td>\n",
       "      <td>2000</td>\n",
       "      <td>1</td>\n",
       "    </tr>\n",
       "  </tbody>\n",
       "</table>\n",
       "</div>"
      ],
      "text/plain": [
       "        Date   Open    High     Low   Close   Volume  Open_Interest  Year  Month\n",
       "0 2000-01-14  480.0  490.00  480.00  485.50    992.0          175.0  2000      1\n",
       "1 2000-01-13  472.5  483.50  471.00  481.75   1821.0         1296.0  2000      1\n",
       "2 2000-01-12  479.0  479.00  471.50  472.50   3974.0         2029.0  2000      1\n",
       "3 2000-01-11  465.0  470.75  464.00  467.00   4544.0         2841.0  2000      1\n",
       "4 2000-01-10  466.0  469.25  465.00  466.25   6265.0         3635.0  2000      1\n",
       "5 2000-01-07  467.5  472.00  466.50  471.50   8942.0         4491.0  2000      1\n",
       "6 2000-01-06  469.5  473.00  468.00  468.00   7559.0         6477.0  2000      1\n",
       "7 2000-01-05  464.0  470.00  462.50  469.25  11035.0         7495.0  2000      1\n",
       "8 2000-01-04  458.5  466.00  458.25  464.25   8543.0        10015.0  2000      1\n",
       "9 2000-01-03  464.0  466.00  455.75  456.50   6168.0        11516.0  2000      1"
      ]
     },
     "execution_count": 367,
     "metadata": {},
     "output_type": "execute_result"
    }
   ],
   "source": [
    "# verificando o conteudo de cada coluna (variável) do dataframe\n",
    "pd.set_option('display.width', 100)\n",
    "df_soy.head(10)"
   ]
  },
  {
   "cell_type": "markdown",
   "metadata": {},
   "source": [
    "- Observamos que temos todas as variáveis numéricas, algumas contínuas e outras discretas.\n",
    "- Vamos manter as variáveis como estão e aprofundar mais em suas características."
   ]
  },
  {
   "cell_type": "code",
   "execution_count": 368,
   "metadata": {},
   "outputs": [
    {
     "data": {
      "text/plain": [
       "Date\n",
       "1998     36\n",
       "1999    251\n",
       "2000    290\n",
       "2001    272\n",
       "2002    344\n",
       "2003    306\n",
       "2004    316\n",
       "2005    359\n",
       "2006    356\n",
       "2007    441\n",
       "2008    401\n",
       "2009    545\n",
       "2010    547\n",
       "2011    514\n",
       "2012    547\n",
       "2013    546\n",
       "2014    546\n",
       "2015    546\n",
       "2016    546\n",
       "2017    543\n",
       "2018    545\n",
       "2019    545\n",
       "2020    515\n",
       "2021    261\n",
       "2022     10\n",
       "Name: Date, dtype: int64"
      ]
     },
     "execution_count": 368,
     "metadata": {},
     "output_type": "execute_result"
    }
   ],
   "source": [
    "df_soy.groupby(df_soy['Date'].dt.year)['Date'].count()"
   ]
  },
  {
   "cell_type": "code",
   "execution_count": 369,
   "metadata": {},
   "outputs": [],
   "source": [
    "df_soy = df_soy.drop(df_soy.loc[df_soy['Date'].dt.year==1998].index)\n",
    "df_soy = df_soy.drop(df_soy.loc[df_soy['Date'].dt.year==2022].index)"
   ]
  },
  {
   "cell_type": "code",
   "execution_count": 370,
   "metadata": {},
   "outputs": [
    {
     "data": {
      "text/plain": [
       "Date\n",
       "1999    251\n",
       "2000    267\n",
       "2001    259\n",
       "2002    308\n",
       "2003    270\n",
       "2004    280\n",
       "2005    323\n",
       "2006    320\n",
       "2007    406\n",
       "2008    354\n",
       "2009    502\n",
       "2010    510\n",
       "2011    469\n",
       "2012    502\n",
       "2013    502\n",
       "2014    501\n",
       "2015    502\n",
       "2016    502\n",
       "2017    499\n",
       "2018    500\n",
       "2019    510\n",
       "2020    490\n",
       "2021    249\n",
       "Name: Date, dtype: int64"
      ]
     },
     "execution_count": 370,
     "metadata": {},
     "output_type": "execute_result"
    }
   ],
   "source": [
    "df_soy.groupby(df_soy['Date'].dt.year)['Date'].count()"
   ]
  },
  {
   "cell_type": "code",
   "execution_count": 371,
   "metadata": {},
   "outputs": [],
   "source": [
    "# montando a query para agrupar a soma dos valores por cluster\n",
    "from pandasql import sqldf\n",
    "\n",
    "df_fim_ano = sqldf(\n",
    "             \" select Year, max(Date) as Date_group, avg(Close) as Close_group,\" \\\n",
    "             \"        avg(Volume) as Volume_group, avg(Open_Interest) as Open_Interest_group\"\n",
    "             \" from df_soy \" \\\n",
    "             \" where Month = 12 \" \\\n",
    "             \" group by 1 \" \\\n",
    "             \" order by 1 \"\n",
    "             )"
   ]
  },
  {
   "cell_type": "code",
   "execution_count": 372,
   "metadata": {},
   "outputs": [
    {
     "data": {
      "text/html": [
       "<div>\n",
       "<style scoped>\n",
       "    .dataframe tbody tr th:only-of-type {\n",
       "        vertical-align: middle;\n",
       "    }\n",
       "\n",
       "    .dataframe tbody tr th {\n",
       "        vertical-align: top;\n",
       "    }\n",
       "\n",
       "    .dataframe thead th {\n",
       "        text-align: right;\n",
       "    }\n",
       "</style>\n",
       "<table border=\"1\" class=\"dataframe\">\n",
       "  <thead>\n",
       "    <tr style=\"text-align: right;\">\n",
       "      <th></th>\n",
       "      <th>Year</th>\n",
       "      <th>Date_group</th>\n",
       "      <th>Close_group</th>\n",
       "      <th>Volume_group</th>\n",
       "      <th>Open_Interest_group</th>\n",
       "    </tr>\n",
       "  </thead>\n",
       "  <tbody>\n",
       "    <tr>\n",
       "      <th>0</th>\n",
       "      <td>1999</td>\n",
       "      <td>1999-12-30 00:00:00.000000</td>\n",
       "      <td>462.476190</td>\n",
       "      <td>23309.380952</td>\n",
       "      <td>52490.380952</td>\n",
       "    </tr>\n",
       "    <tr>\n",
       "      <th>1</th>\n",
       "      <td>2000</td>\n",
       "      <td>2000-12-29 00:00:00.000000</td>\n",
       "      <td>513.071429</td>\n",
       "      <td>16431.178571</td>\n",
       "      <td>38389.250000</td>\n",
       "    </tr>\n",
       "    <tr>\n",
       "      <th>2</th>\n",
       "      <td>2001</td>\n",
       "      <td>2001-12-31 00:00:00.000000</td>\n",
       "      <td>436.025000</td>\n",
       "      <td>24364.600000</td>\n",
       "      <td>50951.600000</td>\n",
       "    </tr>\n",
       "    <tr>\n",
       "      <th>3</th>\n",
       "      <td>2002</td>\n",
       "      <td>2002-12-31 00:00:00.000000</td>\n",
       "      <td>566.675000</td>\n",
       "      <td>30992.900000</td>\n",
       "      <td>56438.600000</td>\n",
       "    </tr>\n",
       "    <tr>\n",
       "      <th>4</th>\n",
       "      <td>2003</td>\n",
       "      <td>2003-12-31 00:00:00.000000</td>\n",
       "      <td>770.704545</td>\n",
       "      <td>27683.681818</td>\n",
       "      <td>69657.045455</td>\n",
       "    </tr>\n",
       "    <tr>\n",
       "      <th>5</th>\n",
       "      <td>2004</td>\n",
       "      <td>2004-12-30 00:00:00.000000</td>\n",
       "      <td>540.476190</td>\n",
       "      <td>30288.523810</td>\n",
       "      <td>66677.095238</td>\n",
       "    </tr>\n",
       "    <tr>\n",
       "      <th>6</th>\n",
       "      <td>2005</td>\n",
       "      <td>2005-12-30 00:00:00.000000</td>\n",
       "      <td>591.181818</td>\n",
       "      <td>36661.590909</td>\n",
       "      <td>82450.000000</td>\n",
       "    </tr>\n",
       "    <tr>\n",
       "      <th>7</th>\n",
       "      <td>2006</td>\n",
       "      <td>2006-12-29 00:00:00.000000</td>\n",
       "      <td>662.175000</td>\n",
       "      <td>19901.250000</td>\n",
       "      <td>106013.600000</td>\n",
       "    </tr>\n",
       "    <tr>\n",
       "      <th>8</th>\n",
       "      <td>2007</td>\n",
       "      <td>2007-12-31 00:00:00.000000</td>\n",
       "      <td>1151.437500</td>\n",
       "      <td>18771.950000</td>\n",
       "      <td>150021.750000</td>\n",
       "    </tr>\n",
       "    <tr>\n",
       "      <th>9</th>\n",
       "      <td>2008</td>\n",
       "      <td>2008-12-31 00:00:00.000000</td>\n",
       "      <td>890.392045</td>\n",
       "      <td>3010.454545</td>\n",
       "      <td>38624.340909</td>\n",
       "    </tr>\n",
       "    <tr>\n",
       "      <th>10</th>\n",
       "      <td>2009</td>\n",
       "      <td>2009-12-31 00:00:00.000000</td>\n",
       "      <td>1026.988636</td>\n",
       "      <td>38964.090909</td>\n",
       "      <td>62752.977273</td>\n",
       "    </tr>\n",
       "    <tr>\n",
       "      <th>11</th>\n",
       "      <td>2010</td>\n",
       "      <td>2010-12-31 00:00:00.000000</td>\n",
       "      <td>1245.443182</td>\n",
       "      <td>41861.318182</td>\n",
       "      <td>69572.727273</td>\n",
       "    </tr>\n",
       "    <tr>\n",
       "      <th>12</th>\n",
       "      <td>2011</td>\n",
       "      <td>2011-12-30 00:00:00.000000</td>\n",
       "      <td>1153.196429</td>\n",
       "      <td>42769.404762</td>\n",
       "      <td>63584.714286</td>\n",
       "    </tr>\n",
       "    <tr>\n",
       "      <th>13</th>\n",
       "      <td>2012</td>\n",
       "      <td>2012-12-31 00:00:00.000000</td>\n",
       "      <td>1369.881250</td>\n",
       "      <td>45437.750000</td>\n",
       "      <td>64486.375000</td>\n",
       "    </tr>\n",
       "    <tr>\n",
       "      <th>14</th>\n",
       "      <td>2013</td>\n",
       "      <td>2013-12-31 00:00:00.000000</td>\n",
       "      <td>1241.696429</td>\n",
       "      <td>43791.285714</td>\n",
       "      <td>80920.119048</td>\n",
       "    </tr>\n",
       "    <tr>\n",
       "      <th>15</th>\n",
       "      <td>2014</td>\n",
       "      <td>2014-12-31 00:00:00.000000</td>\n",
       "      <td>1020.687500</td>\n",
       "      <td>48283.840909</td>\n",
       "      <td>87399.409091</td>\n",
       "    </tr>\n",
       "    <tr>\n",
       "      <th>16</th>\n",
       "      <td>2015</td>\n",
       "      <td>2015-12-31 00:00:00.000000</td>\n",
       "      <td>893.079545</td>\n",
       "      <td>45320.500000</td>\n",
       "      <td>79094.931818</td>\n",
       "    </tr>\n",
       "    <tr>\n",
       "      <th>17</th>\n",
       "      <td>2016</td>\n",
       "      <td>2016-12-30 00:00:00.000000</td>\n",
       "      <td>997.151163</td>\n",
       "      <td>46268.604651</td>\n",
       "      <td>86468.093023</td>\n",
       "    </tr>\n",
       "    <tr>\n",
       "      <th>18</th>\n",
       "      <td>2017</td>\n",
       "      <td>2017-12-29 00:00:00.000000</td>\n",
       "      <td>980.212500</td>\n",
       "      <td>52452.750000</td>\n",
       "      <td>91087.300000</td>\n",
       "    </tr>\n",
       "    <tr>\n",
       "      <th>19</th>\n",
       "      <td>2018</td>\n",
       "      <td>2018-12-31 00:00:00.000000</td>\n",
       "      <td>935.806250</td>\n",
       "      <td>41081.175000</td>\n",
       "      <td>83755.350000</td>\n",
       "    </tr>\n",
       "    <tr>\n",
       "      <th>20</th>\n",
       "      <td>2019</td>\n",
       "      <td>2019-12-31 00:00:00.000000</td>\n",
       "      <td>926.630952</td>\n",
       "      <td>47297.309524</td>\n",
       "      <td>101760.928571</td>\n",
       "    </tr>\n",
       "    <tr>\n",
       "      <th>21</th>\n",
       "      <td>2020</td>\n",
       "      <td>2020-12-31 00:00:00.000000</td>\n",
       "      <td>1207.431818</td>\n",
       "      <td>92507.318182</td>\n",
       "      <td>169239.272727</td>\n",
       "    </tr>\n",
       "    <tr>\n",
       "      <th>22</th>\n",
       "      <td>2021</td>\n",
       "      <td>2021-12-31 00:00:00.000000</td>\n",
       "      <td>1289.500000</td>\n",
       "      <td>85749.772727</td>\n",
       "      <td>119168.500000</td>\n",
       "    </tr>\n",
       "  </tbody>\n",
       "</table>\n",
       "</div>"
      ],
      "text/plain": [
       "    Year                  Date_group  Close_group  Volume_group  Open_Interest_group\n",
       "0   1999  1999-12-30 00:00:00.000000   462.476190  23309.380952         52490.380952\n",
       "1   2000  2000-12-29 00:00:00.000000   513.071429  16431.178571         38389.250000\n",
       "2   2001  2001-12-31 00:00:00.000000   436.025000  24364.600000         50951.600000\n",
       "3   2002  2002-12-31 00:00:00.000000   566.675000  30992.900000         56438.600000\n",
       "4   2003  2003-12-31 00:00:00.000000   770.704545  27683.681818         69657.045455\n",
       "5   2004  2004-12-30 00:00:00.000000   540.476190  30288.523810         66677.095238\n",
       "6   2005  2005-12-30 00:00:00.000000   591.181818  36661.590909         82450.000000\n",
       "7   2006  2006-12-29 00:00:00.000000   662.175000  19901.250000        106013.600000\n",
       "8   2007  2007-12-31 00:00:00.000000  1151.437500  18771.950000        150021.750000\n",
       "9   2008  2008-12-31 00:00:00.000000   890.392045   3010.454545         38624.340909\n",
       "10  2009  2009-12-31 00:00:00.000000  1026.988636  38964.090909         62752.977273\n",
       "11  2010  2010-12-31 00:00:00.000000  1245.443182  41861.318182         69572.727273\n",
       "12  2011  2011-12-30 00:00:00.000000  1153.196429  42769.404762         63584.714286\n",
       "13  2012  2012-12-31 00:00:00.000000  1369.881250  45437.750000         64486.375000\n",
       "14  2013  2013-12-31 00:00:00.000000  1241.696429  43791.285714         80920.119048\n",
       "15  2014  2014-12-31 00:00:00.000000  1020.687500  48283.840909         87399.409091\n",
       "16  2015  2015-12-31 00:00:00.000000   893.079545  45320.500000         79094.931818\n",
       "17  2016  2016-12-30 00:00:00.000000   997.151163  46268.604651         86468.093023\n",
       "18  2017  2017-12-29 00:00:00.000000   980.212500  52452.750000         91087.300000\n",
       "19  2018  2018-12-31 00:00:00.000000   935.806250  41081.175000         83755.350000\n",
       "20  2019  2019-12-31 00:00:00.000000   926.630952  47297.309524        101760.928571\n",
       "21  2020  2020-12-31 00:00:00.000000  1207.431818  92507.318182        169239.272727\n",
       "22  2021  2021-12-31 00:00:00.000000  1289.500000  85749.772727        119168.500000"
      ]
     },
     "execution_count": 372,
     "metadata": {},
     "output_type": "execute_result"
    }
   ],
   "source": [
    "df_fim_ano"
   ]
  },
  {
   "cell_type": "code",
   "execution_count": 373,
   "metadata": {},
   "outputs": [
    {
     "data": {
      "image/png": "[encoded data removed]",
      "text/plain": [
       "<Figure size 1000x500 with 1 Axes>"
      ]
     },
     "metadata": {},
     "output_type": "display_data"
    }
   ],
   "source": [
    "# plot da cotação do preço da cenoura de verão AAA e inverno A com a variação da temperatura x10 para melhor comparar\n",
    "# a variação entre o Preço e a Temperatura os dados que serão plotados são os originais, sem a normalização\n",
    "fig,ax = plt.subplots(ncols=1,figsize=(10,5))\n",
    "\n",
    "plt.plot(df_fim_ano.Year, df_fim_ano.Close_group*10, label = \"Preço*10 médio de fechamento no ano\", linewidth=4, color='red') \n",
    "plt.plot(df_fim_ano.Year, df_fim_ano.Volume_group, label = \"Nro médio de títulos no ano\", linewidth=4, color='blue') \n",
    "plt.plot(df_fim_ano.Year, df_fim_ano.Open_Interest_group, label = \"Fluxo médio de vrs no ano\", linewidth=2, color='orange')  \n",
    "\n",
    "plt.title('Valores médio no ano')\n",
    "plt.legend() \n",
    "\n",
    "plt.savefig('grafic_image/valores_medio_ano.png', format='png')\n",
    "plt.show()"
   ]
  },
  {
   "cell_type": "code",
   "execution_count": 374,
   "metadata": {},
   "outputs": [],
   "source": [
    "# salva os dados tratados em arquivo csv organizado pelo índice\n",
    "df_soy.sort_index().to_csv('df_treated/df_soy_treated.csv', index=False)"
   ]
  }
 ],
 "metadata": {
  "kernelspec": {
   "display_name": "Python 3",
   "language": "python",
   "name": "python3"
  },
  "language_info": {
   "codemirror_mode": {
    "name": "ipython",
    "version": 3
   },
   "file_extension": ".py",
   "mimetype": "text/x-python",
   "name": "python",
   "nbconvert_exporter": "python",
   "pygments_lexer": "ipython3",
   "version": "3.11.5"
  }
 },
 "nbformat": 4,
 "nbformat_minor": 2
}
