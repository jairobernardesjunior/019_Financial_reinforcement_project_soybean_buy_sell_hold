{
 "cells": [
  {
   "cell_type": "markdown",
   "metadata": {},
   "source": [
    "- ## Escolha do modelo\n",
    "- ## Treinamento do modelo\n",
    "- ## Teste do modelo\n",
    "- ## Armazenamento do modelo"
   ]
  },
  {
   "cell_type": "code",
   "execution_count": 210,
   "metadata": {},
   "outputs": [],
   "source": [
    "# maximiza nro de linhas e colunas para exibição\n",
    "# inibe mensagens de warning\n",
    "import pandas as pd\n",
    "pd.set_option('display.max_rows', None) # permite a máxima visualização das linhas em um display\n",
    "pd.set_option('display.max_columns', None) # permite a máxima visualização das colunas em um display\n",
    "import warnings\n",
    "warnings.simplefilter('ignore') # inibe a exibição de avisos de warning\n",
    "warnings.filterwarnings('ignore') # inibe a exibição de avisos de warning"
   ]
  },
  {
   "cell_type": "code",
   "execution_count": 211,
   "metadata": {},
   "outputs": [],
   "source": [
    "# modelos de aprendizado por reforço\n",
    "import keras \n",
    "from keras import layers, models, optimizers \n",
    "from keras import backend as K \n",
    "from collections import namedtuple, deque \n",
    "from keras.models import Sequential \n",
    "from keras.models import load_model \n",
    "from keras.layers import Dense \n",
    "from keras.optimizers import Adam"
   ]
  },
  {
   "cell_type": "code",
   "execution_count": 212,
   "metadata": {},
   "outputs": [],
   "source": [
    "# preparação e visualização de dados\n",
    "import numpy as np # computação de matrizes\n",
    "from matplotlib import pyplot as plt # plotagem gráfica\n",
    "import seaborn as sns # plotagem gráfica\n",
    "import matplotlib.ticker as ticker  # plotagem gráfica\n",
    "\n",
    "import datetime \n",
    "import math\n",
    "import random\n",
    "from numpy.random import choice \n",
    "from collections import deque"
   ]
  },
  {
   "cell_type": "code",
   "execution_count": 213,
   "metadata": {},
   "outputs": [],
   "source": [
    "# carregando arquivo tratado em dataframe\n",
    "df_soy = pd.read_csv('df_treated/df_soy_treated.csv')"
   ]
  },
  {
   "cell_type": "code",
   "execution_count": 214,
   "metadata": {},
   "outputs": [
    {
     "data": {
      "text/plain": [
       "(9276, 8)"
      ]
     },
     "execution_count": 214,
     "metadata": {},
     "output_type": "execute_result"
    }
   ],
   "source": [
    "# conferindo a dimensão do dataframe, linhas e colunas\n",
    "df_soy.shape"
   ]
  },
  {
   "cell_type": "code",
   "execution_count": 215,
   "metadata": {},
   "outputs": [],
   "source": [
    "# ordenando pelo index o dataframe carregado\n",
    "df_soy = df_soy.sort_index()"
   ]
  },
  {
   "cell_type": "code",
   "execution_count": 216,
   "metadata": {},
   "outputs": [
    {
     "data": {
      "text/html": [
       "<div>\n",
       "<style scoped>\n",
       "    .dataframe tbody tr th:only-of-type {\n",
       "        vertical-align: middle;\n",
       "    }\n",
       "\n",
       "    .dataframe tbody tr th {\n",
       "        vertical-align: top;\n",
       "    }\n",
       "\n",
       "    .dataframe thead th {\n",
       "        text-align: right;\n",
       "    }\n",
       "</style>\n",
       "<table border=\"1\" class=\"dataframe\">\n",
       "  <thead>\n",
       "    <tr style=\"text-align: right;\">\n",
       "      <th></th>\n",
       "      <th>Date</th>\n",
       "      <th>Open</th>\n",
       "      <th>High</th>\n",
       "      <th>Low</th>\n",
       "      <th>Close</th>\n",
       "      <th>Volume</th>\n",
       "      <th>Open_Interest</th>\n",
       "      <th>Year</th>\n",
       "    </tr>\n",
       "  </thead>\n",
       "  <tbody>\n",
       "    <tr>\n",
       "      <th>0</th>\n",
       "      <td>1999-01-04</td>\n",
       "      <td>567.0</td>\n",
       "      <td>570.00</td>\n",
       "      <td>566.0</td>\n",
       "      <td>569.00</td>\n",
       "      <td>14.0</td>\n",
       "      <td>312.0</td>\n",
       "      <td>1999</td>\n",
       "    </tr>\n",
       "    <tr>\n",
       "      <th>1</th>\n",
       "      <td>1999-01-05</td>\n",
       "      <td>570.5</td>\n",
       "      <td>574.00</td>\n",
       "      <td>570.5</td>\n",
       "      <td>573.50</td>\n",
       "      <td>12.0</td>\n",
       "      <td>323.0</td>\n",
       "      <td>1999</td>\n",
       "    </tr>\n",
       "    <tr>\n",
       "      <th>2</th>\n",
       "      <td>1999-01-06</td>\n",
       "      <td>574.0</td>\n",
       "      <td>579.00</td>\n",
       "      <td>574.0</td>\n",
       "      <td>577.00</td>\n",
       "      <td>43.0</td>\n",
       "      <td>329.0</td>\n",
       "      <td>1999</td>\n",
       "    </tr>\n",
       "    <tr>\n",
       "      <th>3</th>\n",
       "      <td>1999-01-07</td>\n",
       "      <td>574.5</td>\n",
       "      <td>575.75</td>\n",
       "      <td>574.0</td>\n",
       "      <td>574.25</td>\n",
       "      <td>69.0</td>\n",
       "      <td>348.0</td>\n",
       "      <td>1999</td>\n",
       "    </tr>\n",
       "    <tr>\n",
       "      <th>4</th>\n",
       "      <td>1999-01-08</td>\n",
       "      <td>579.0</td>\n",
       "      <td>581.00</td>\n",
       "      <td>579.0</td>\n",
       "      <td>580.50</td>\n",
       "      <td>61.0</td>\n",
       "      <td>345.0</td>\n",
       "      <td>1999</td>\n",
       "    </tr>\n",
       "  </tbody>\n",
       "</table>\n",
       "</div>"
      ],
      "text/plain": [
       "         Date   Open    High    Low   Close  Volume  Open_Interest  Year\n",
       "0  1999-01-04  567.0  570.00  566.0  569.00    14.0          312.0  1999\n",
       "1  1999-01-05  570.5  574.00  570.5  573.50    12.0          323.0  1999\n",
       "2  1999-01-06  574.0  579.00  574.0  577.00    43.0          329.0  1999\n",
       "3  1999-01-07  574.5  575.75  574.0  574.25    69.0          348.0  1999\n",
       "4  1999-01-08  579.0  581.00  579.0  580.50    61.0          345.0  1999"
      ]
     },
     "execution_count": 216,
     "metadata": {},
     "output_type": "execute_result"
    }
   ],
   "source": [
    "# reconhecendo as primeiras linhas do dataframe\n",
    "df_soy.head(5)"
   ]
  },
  {
   "cell_type": "code",
   "execution_count": 217,
   "metadata": {},
   "outputs": [
    {
     "name": "stdout",
     "output_type": "stream",
     "text": [
      "<class 'pandas.core.frame.DataFrame'>\n",
      "RangeIndex: 9276 entries, 0 to 9275\n",
      "Data columns (total 8 columns):\n",
      " #   Column         Non-Null Count  Dtype  \n",
      "---  ------         --------------  -----  \n",
      " 0   Date           9276 non-null   object \n",
      " 1   Open           9276 non-null   float64\n",
      " 2   High           9276 non-null   float64\n",
      " 3   Low            9276 non-null   float64\n",
      " 4   Close          9276 non-null   float64\n",
      " 5   Volume         9276 non-null   float64\n",
      " 6   Open_Interest  9276 non-null   float64\n",
      " 7   Year           9276 non-null   int64  \n",
      "dtypes: float64(6), int64(1), object(1)\n",
      "memory usage: 579.9+ KB\n"
     ]
    }
   ],
   "source": [
    "# verificando a posição de cada variável\n",
    "df_soy.info()"
   ]
  },
  {
   "cell_type": "code",
   "execution_count": 218,
   "metadata": {},
   "outputs": [],
   "source": [
    "df_soy['Date'] = df_soy['Date'].astype('datetime64[ns]')"
   ]
  },
  {
   "cell_type": "code",
   "execution_count": 219,
   "metadata": {},
   "outputs": [],
   "source": [
    "X=list(df_soy['Close'])"
   ]
  },
  {
   "cell_type": "code",
   "execution_count": 220,
   "metadata": {},
   "outputs": [],
   "source": [
    "X=[float(x) for x in X] \n",
    "validation_size = 0.2 \n",
    "train_size = int(len(X) * (1-validation_size)) \n",
    "X_train, X_test = X[0:train_size], X[train_size:len(X)]"
   ]
  },
  {
   "cell_type": "code",
   "execution_count": 221,
   "metadata": {},
   "outputs": [
    {
     "name": "stdout",
     "output_type": "stream",
     "text": [
      "7420\n",
      "1856\n"
     ]
    }
   ],
   "source": [
    "print(len(X_train))\n",
    "print(len(X_test))"
   ]
  },
  {
   "cell_type": "code",
   "execution_count": 222,
   "metadata": {},
   "outputs": [],
   "source": [
    "class Agent: \n",
    "    def __init__(self, state_size, is_eval=False, model_name=''): \n",
    "        self.state_size = state_size # dias anteriores normalizados \n",
    "        self.action_size = 3 # hold, compra, venda \n",
    "        self.memory = deque(maxlen=1000) \n",
    "        self.inventory = [] \n",
    "        self.model_name = model_name \n",
    "        self.is_eval = is_eval \n",
    "        self.gamma = 0.95\n",
    "        self.epsilon = 1.0 \n",
    "        self.epsilon_min = 0.01 \n",
    "        self.epsilon_decay = 0.995 \n",
    "        self.model = load_model('models/' + model_name) \n",
    "        if not is_eval: \n",
    "            self._model()\n",
    "\n",
    "    def _model(self): \n",
    "        model = Sequential() \n",
    "        model.add(Dense(units=64, input_dim=self.state_size, activation='relu')) \n",
    "        model.add(Dense(units=32, activation='relu')) \n",
    "        model.add(Dense(units=8, activation='relu')) \n",
    "        model.add(Dense(self.action_size, activation='linear'))\n",
    "        model.compile(loss='mse', optimizer=Adam(lr=0.001)) \n",
    "        return model     \n",
    "\n",
    "    def act(self, state): \n",
    "        if not self.is_eval and random.random() <= self.epsilon: \n",
    "            return \n",
    "            \n",
    "        random.randrange(self.action_size)\n",
    "        options = self.model.predict(state) \n",
    "        return np.argmax(options[0])\n",
    "\n",
    "    def expReplay(self, batch_size):\n",
    "        mini_batch = [] \n",
    "        l = len(self.memory) \n",
    "\n",
    "        #1: preparar a replay memory \n",
    "        for i in range(l - batch_size + 1, l): \n",
    "            mini_batch.append(self.memory[i]) \n",
    "\n",
    "        #2: Fazer loop em todo o lote de replay. \n",
    "        for state, action, reward, next_state, done in mini_batch: \n",
    "            target = reward # recompensa ou Q no tempo t \n",
    "                \n",
    "            #3: atualizar o alvo para tabela Q. equação de tabela\n",
    "            if not done: \n",
    "                target = reward + self.gamma * np.amax(self.model.predict(next_state)[0]) #set_trace() \n",
    "            \n",
    "            #4: Valor Q do estado atual a partir da tabela \n",
    "            target_f = self.model.predict(state) \n",
    "            \n",
    "            #5: Atualizar a tabela Q de saída para a ação dada na tabela \n",
    "            target_f[0][action] = target \n",
    "            \n",
    "            #6. Treinar e ajustar o modelo \n",
    "            self.model.fit(state, target_f, epochs=1, verbose=0)\n",
    "\n",
    "            #7. Implementar algoritmo epsilon greedy \n",
    "            if self.epsilon > self.epsilon_min: \n",
    "                self.epsilon *= self.epsilon_decay"
   ]
  },
  {
   "cell_type": "code",
   "execution_count": 223,
   "metadata": {},
   "outputs": [],
   "source": [
    "def getState(data, t, n): \n",
    "    d = t - n + 1 \n",
    "    block = data[d:t + 1] \n",
    "    if not d >= 0:\n",
    "        -d * [data[0]] + data[0:t + 1]\n",
    "\n",
    "    res = [] \n",
    "    for i in range(n - 1): \n",
    "        res.append(sigmoid(block[i + 1] - block[i])) \n",
    "        \n",
    "    return np.array([res])"
   ]
  },
  {
   "cell_type": "code",
   "execution_count": 224,
   "metadata": {},
   "outputs": [],
   "source": [
    "def plot_behavior(data_input, states_buy, states_sell, profit):\n",
    "    fig = plt.figure(figsize = (15, 5)) \n",
    "    plt.plot(data_input, color='r', lw=2.) \n",
    "    plt.plot(data_input, '^', markersize=10, color='m', label='Buying signal', markevery=states_buy) \n",
    "    plt.plot(data_input, 'v', markersize=10, color='k', label='Selling signal', markevery = states_sell) \n",
    "    plt.title('Total gains: %f'%(profit)) \n",
    "    plt.legend() \n",
    "    plt.show()"
   ]
  },
  {
   "cell_type": "code",
   "execution_count": 225,
   "metadata": {},
   "outputs": [
    {
     "ename": "ValueError",
     "evalue": "File format not supported: filepath=models/. Keras 3 only supports V3 `.keras` files and legacy H5 format files (`.h5` extension). Note that the legacy SavedModel format is not supported by `load_model()` in Keras 3. In order to reload a TensorFlow SavedModel as an inference-only layer in Keras 3, use `keras.layers.TFSMLayer(models/, call_endpoint='serving_default')` (note that your `call_endpoint` might have a different name).",
     "output_type": "error",
     "traceback": [
      "\u001b[1;31m---------------------------------------------------------------------------\u001b[0m",
      "\u001b[1;31mValueError\u001b[0m                                Traceback (most recent call last)",
      "Cell \u001b[1;32mIn[225], line 2\u001b[0m\n\u001b[0;32m      1\u001b[0m window_size \u001b[38;5;241m=\u001b[39m \u001b[38;5;241m1\u001b[39m \n\u001b[1;32m----> 2\u001b[0m agent \u001b[38;5;241m=\u001b[39m \u001b[43mAgent\u001b[49m\u001b[43m(\u001b[49m\u001b[43mwindow_size\u001b[49m\u001b[43m)\u001b[49m\n\u001b[0;32m      3\u001b[0m l \u001b[38;5;241m=\u001b[39m \u001b[38;5;28mlen\u001b[39m(data) \u001b[38;5;241m-\u001b[39m \u001b[38;5;241m1\u001b[39m \n\u001b[0;32m      4\u001b[0m batch_size \u001b[38;5;241m=\u001b[39m \u001b[38;5;241m10\u001b[39m \n",
      "Cell \u001b[1;32mIn[222], line 13\u001b[0m, in \u001b[0;36mAgent.__init__\u001b[1;34m(self, state_size, is_eval, model_name)\u001b[0m\n\u001b[0;32m     11\u001b[0m \u001b[38;5;28mself\u001b[39m\u001b[38;5;241m.\u001b[39mepsilon_min \u001b[38;5;241m=\u001b[39m \u001b[38;5;241m0.01\u001b[39m \n\u001b[0;32m     12\u001b[0m \u001b[38;5;28mself\u001b[39m\u001b[38;5;241m.\u001b[39mepsilon_decay \u001b[38;5;241m=\u001b[39m \u001b[38;5;241m0.995\u001b[39m \n\u001b[1;32m---> 13\u001b[0m \u001b[38;5;28mself\u001b[39m\u001b[38;5;241m.\u001b[39mmodel \u001b[38;5;241m=\u001b[39m \u001b[43mload_model\u001b[49m\u001b[43m(\u001b[49m\u001b[38;5;124;43m'\u001b[39;49m\u001b[38;5;124;43mmodels/\u001b[39;49m\u001b[38;5;124;43m'\u001b[39;49m\u001b[43m \u001b[49m\u001b[38;5;241;43m+\u001b[39;49m\u001b[43m \u001b[49m\u001b[43mmodel_name\u001b[49m\u001b[43m)\u001b[49m \n\u001b[0;32m     14\u001b[0m \u001b[38;5;28;01mif\u001b[39;00m \u001b[38;5;129;01mnot\u001b[39;00m is_eval: \n\u001b[0;32m     15\u001b[0m     \u001b[38;5;28mself\u001b[39m\u001b[38;5;241m.\u001b[39m_model()\n",
      "File \u001b[1;32mc:\\Users\\KR\\AppData\\Local\\Programs\\Python\\Python311\\Lib\\site-packages\\keras\\src\\saving\\saving_api.py:206\u001b[0m, in \u001b[0;36mload_model\u001b[1;34m(filepath, custom_objects, compile, safe_mode)\u001b[0m\n\u001b[0;32m    200\u001b[0m     \u001b[38;5;28;01mraise\u001b[39;00m \u001b[38;5;167;01mValueError\u001b[39;00m(\n\u001b[0;32m    201\u001b[0m         \u001b[38;5;124mf\u001b[39m\u001b[38;5;124m\"\u001b[39m\u001b[38;5;124mFile not found: filepath=\u001b[39m\u001b[38;5;132;01m{\u001b[39;00mfilepath\u001b[38;5;132;01m}\u001b[39;00m\u001b[38;5;124m. \u001b[39m\u001b[38;5;124m\"\u001b[39m\n\u001b[0;32m    202\u001b[0m         \u001b[38;5;124m\"\u001b[39m\u001b[38;5;124mPlease ensure the file is an accessible `.keras` \u001b[39m\u001b[38;5;124m\"\u001b[39m\n\u001b[0;32m    203\u001b[0m         \u001b[38;5;124m\"\u001b[39m\u001b[38;5;124mzip file.\u001b[39m\u001b[38;5;124m\"\u001b[39m\n\u001b[0;32m    204\u001b[0m     )\n\u001b[0;32m    205\u001b[0m \u001b[38;5;28;01melse\u001b[39;00m:\n\u001b[1;32m--> 206\u001b[0m     \u001b[38;5;28;01mraise\u001b[39;00m \u001b[38;5;167;01mValueError\u001b[39;00m(\n\u001b[0;32m    207\u001b[0m         \u001b[38;5;124mf\u001b[39m\u001b[38;5;124m\"\u001b[39m\u001b[38;5;124mFile format not supported: filepath=\u001b[39m\u001b[38;5;132;01m{\u001b[39;00mfilepath\u001b[38;5;132;01m}\u001b[39;00m\u001b[38;5;124m. \u001b[39m\u001b[38;5;124m\"\u001b[39m\n\u001b[0;32m    208\u001b[0m         \u001b[38;5;124m\"\u001b[39m\u001b[38;5;124mKeras 3 only supports V3 `.keras` files and \u001b[39m\u001b[38;5;124m\"\u001b[39m\n\u001b[0;32m    209\u001b[0m         \u001b[38;5;124m\"\u001b[39m\u001b[38;5;124mlegacy H5 format files (`.h5` extension). \u001b[39m\u001b[38;5;124m\"\u001b[39m\n\u001b[0;32m    210\u001b[0m         \u001b[38;5;124m\"\u001b[39m\u001b[38;5;124mNote that the legacy SavedModel format is not \u001b[39m\u001b[38;5;124m\"\u001b[39m\n\u001b[0;32m    211\u001b[0m         \u001b[38;5;124m\"\u001b[39m\u001b[38;5;124msupported by `load_model()` in Keras 3. In \u001b[39m\u001b[38;5;124m\"\u001b[39m\n\u001b[0;32m    212\u001b[0m         \u001b[38;5;124m\"\u001b[39m\u001b[38;5;124morder to reload a TensorFlow SavedModel as an \u001b[39m\u001b[38;5;124m\"\u001b[39m\n\u001b[0;32m    213\u001b[0m         \u001b[38;5;124m\"\u001b[39m\u001b[38;5;124minference-only layer in Keras 3, use \u001b[39m\u001b[38;5;124m\"\u001b[39m\n\u001b[0;32m    214\u001b[0m         \u001b[38;5;124m\"\u001b[39m\u001b[38;5;124m`keras.layers.TFSMLayer(\u001b[39m\u001b[38;5;124m\"\u001b[39m\n\u001b[0;32m    215\u001b[0m         \u001b[38;5;124mf\u001b[39m\u001b[38;5;124m\"\u001b[39m\u001b[38;5;132;01m{\u001b[39;00mfilepath\u001b[38;5;132;01m}\u001b[39;00m\u001b[38;5;124m, call_endpoint=\u001b[39m\u001b[38;5;124m'\u001b[39m\u001b[38;5;124mserving_default\u001b[39m\u001b[38;5;124m'\u001b[39m\u001b[38;5;124m)` \u001b[39m\u001b[38;5;124m\"\u001b[39m\n\u001b[0;32m    216\u001b[0m         \u001b[38;5;124m\"\u001b[39m\u001b[38;5;124m(note that your `call_endpoint` \u001b[39m\u001b[38;5;124m\"\u001b[39m\n\u001b[0;32m    217\u001b[0m         \u001b[38;5;124m\"\u001b[39m\u001b[38;5;124mmight have a different name).\u001b[39m\u001b[38;5;124m\"\u001b[39m\n\u001b[0;32m    218\u001b[0m     )\n",
      "\u001b[1;31mValueError\u001b[0m: File format not supported: filepath=models/. Keras 3 only supports V3 `.keras` files and legacy H5 format files (`.h5` extension). Note that the legacy SavedModel format is not supported by `load_model()` in Keras 3. In order to reload a TensorFlow SavedModel as an inference-only layer in Keras 3, use `keras.layers.TFSMLayer(models/, call_endpoint='serving_default')` (note that your `call_endpoint` might have a different name)."
     ]
    }
   ],
   "source": [
    "window_size = 1 \n",
    "agent = Agent(window_size)\n",
    "l = len(data) - 1 \n",
    "batch_size = 10 \n",
    "states_sell = [] \n",
    "states_buy = [] \n",
    "episode_count = 3 \n",
    "\n",
    "for e in range(episode_count + 1): \n",
    "    print('Episode ' + str(e) + '/' + str(episode_count)) \n",
    "    \n",
    "    # 1-obter estado \n",
    "    state = getState(data, 0, window_size + 1) \n",
    "    total_profit = 0 \n",
    "    agent.inventory = []\n",
    "\n",
    "    for t in range(l): \n",
    "        # 2-aplicar a melhor ação \n",
    "        action = agent.act(state) \n",
    "        \n",
    "        # sit \n",
    "        next_state = getState(data, t + 1, window_size + 1) \n",
    "        reward = 0 \n",
    "        if action == 1: \n",
    "            # compra \n",
    "            states_buy.append(t) \n",
    "            print('Buy: ' + formatPrice(data[t])) \n",
    "\n",
    "        elif action == 2 and len(agent.inventory) > 0: \n",
    "            # venda\n",
    "            bought_price = agent.inventory.pop(0) \n",
    "            \n",
    "        #3: Obter Recompensa \n",
    "        reward = max(data[t] - bought_price, 0) \n",
    "        total_profit += data[t] - bought_price \n",
    "        states_sell.append(t) \n",
    "        print('Sell: ' + formatPrice(data[t]) + ' | Profit: ' + formatPrice(data[t] - bought_price))\n",
    "\n",
    "        done = True if t == l - 1 else False \n",
    "        \n",
    "        # 4: Obter próximo estado a ser usado na equação de Bellman \n",
    "        next_state = getState(data, t + 1, window_size + 1) \n",
    "        \n",
    "        # 5: Acrescentar à memória \n",
    "        agent.memory.append((state, action, reward, next_state, done)) \n",
    "        state = next_state \n",
    "        if done: \n",
    "            print('--------------------------------')\n",
    "            print('Total Profit: ' + formatPrice(total_profit)) \n",
    "            print('--------------------------------') \n",
    "    \n",
    "        # 6: Executar função replay buffer \n",
    "        if len(agent.memory) > batch_size: \n",
    "            agent.expReplay(batch_size) \n",
    "\n",
    "        if e % 10 == 0: \n",
    "            agent.model.save('models/model_ep' + str(e))"
   ]
  },
  {
   "cell_type": "code",
   "execution_count": null,
   "metadata": {},
   "outputs": [],
   "source": [
    "#O agente já está definido no conjunto de teste precedente. \n",
    "test_data = X_test \n",
    "l_test = len(test_data) - 1 \n",
    "state = getState(test_data, 0, window_size + 1) \n",
    "total_profit = 0 \n",
    "is_eval = True \n",
    "done = False \n",
    "states_sell_test = [] \n",
    "states_buy_test = [] \n",
    "model_name = 'model_ep10'\n",
    "agent = Agent(window_size, is_eval, model_name) \n",
    "state = getState(data, 0, window_size + 1) \n",
    "total_profit = 0 agent.inventory = [] \n",
    "\n",
    "for t in range(l_test): \n",
    "    action = agent.act(state) \n",
    "    next_state = getState(test_data, t + 1, window_size + 1) \n",
    "    reward = 0 \n",
    "\n",
    "if action == 1:\n",
    "    agent.inventory.append(test_data[t]) \n",
    "    print('Buy: ' + formatPrice(test_data[t])) \n",
    "\n",
    "elif action == 2 and len(agent.inventory) > 0: \n",
    "    bought_price = agent.inventory.pop(0) \n",
    "    reward = max(test_data[t] - bought_price, 0) \n",
    "    total_profit += test_data[t] - bought_price\n",
    "    print('Sell: ' + formatPrice(test_data[t]) + ' | profit: ' + formatPrice(test_data[t] - bought_price)) \n",
    "    \n",
    "if t == l_test - 1: \n",
    "    done = True agent.memory.append((state, action, reward, next_state, done)) \n",
    "    state = next_state \n",
    "\n",
    "if done: \n",
    "    print('------------------------------------------')\n",
    "    print('Total Profit: ' + formatPrice(total_profit)) \n",
    "    print('------------------------------------------')"
   ]
  },
  {
   "cell_type": "code",
   "execution_count": null,
   "metadata": {},
   "outputs": [],
   "source": [
    "# salvando o modelo de geração de clusters em arquivo .pkl\n",
    "#import joblib\n",
    "#joblib.dump(k_means, \"model/kmeans_card_holder.pkl\")"
   ]
  }
 ],
 "metadata": {
  "kernelspec": {
   "display_name": "Python 3",
   "language": "python",
   "name": "python3"
  },
  "language_info": {
   "codemirror_mode": {
    "name": "ipython",
    "version": 3
   },
   "file_extension": ".py",
   "mimetype": "text/x-python",
   "name": "python",
   "nbconvert_exporter": "python",
   "pygments_lexer": "ipython3",
   "version": "3.11.5"
  }
 },
 "nbformat": 4,
 "nbformat_minor": 2
}
